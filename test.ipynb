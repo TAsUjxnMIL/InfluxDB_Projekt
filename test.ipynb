{
 "metadata": {
  "language_info": {
   "codemirror_mode": {
    "name": "ipython",
    "version": 3
   },
   "file_extension": ".py",
   "mimetype": "text/x-python",
   "name": "python",
   "nbconvert_exporter": "python",
   "pygments_lexer": "ipython3",
   "version": "3.8.5"
  },
  "orig_nbformat": 2,
  "kernelspec": {
   "name": "python385jvsc74a57bd02c81527b5a4384cf19648bf8d6f513a12814ed111bcfa0a54163f8e293289c46",
   "display_name": "Python 3.8.5 64-bit ('base': conda)"
  }
 },
 "nbformat": 4,
 "nbformat_minor": 2,
 "cells": [
  {
   "source": [
    "# Start the server \n",
    "* cd C:\\Users\\sujan\\Documents\\influxdb-1.8.4_windows_amd64\\influxdb-1.8.4-1>\n",
    "* ./influxd.exe\n",
    "\n",
    "# Connect to influx db \n",
    "* cd C:\\Users\\sujan\\Documents\\influxdb-1.8.4_windows_amd64\\influxdb-1.8.4-1>\n",
    "* ./influx (-precision rfc3339)"
   ],
   "cell_type": "markdown",
   "metadata": {}
  },
  {
   "source": [
    "* Binden Sie eine Zeitreihendatenbankaus einem Programm an (Java, Python, PHP, etc).\n",
    "* Suchen sie einen angepassten Zeitreihen Datensatz aus (aus Kagglez.b.).\n",
    "* Analysieren sie den Datensatz mit Hilfe von dem Zeitreihendatenbank aus."
   ],
   "cell_type": "markdown",
   "metadata": {}
  },
  {
   "cell_type": "code",
   "execution_count": 2,
   "metadata": {},
   "outputs": [],
   "source": [
    "import pandas as pd \n",
    "from influxdb import InfluxDBClient\n",
    "\n",
    "#Setup database \n",
    "client = InfluxDBClient('localhost', 8086, 'admin', 'Password1', 'CoronaDB')\n",
    "client.create_database('CoronaDB')\n",
    "client.get_list_database()\n",
    "client.switch_database('CoronaDB')"
   ]
  },
  {
   "cell_type": "code",
   "execution_count": 5,
   "metadata": {},
   "outputs": [],
   "source": [
    "import pandas as pd\n",
    "# path variable \n",
    "file_path = 'C:\\\\Users\\\\sujan\\\\Documents\\\\Duales Studium\\\\Theorie\\\\4.Semester\\\\Grundlagen der Datenbanken\\\\Projekt_TimeSeriesData\\\\covid_19_india.csv'\n",
    "# Read the data into csvReader \n",
    "csvReader = pd.read_csv(file_path)"
   ]
  },
  {
   "cell_type": "code",
   "execution_count": 6,
   "metadata": {},
   "outputs": [],
   "source": [
    "date = csvReader.Date\n",
    "tags = csvReader.Sno\n",
    "state = csvReader['State/UnionTerritory']\n",
    "confirmed = csvReader.Confirmed\n",
    "cured = csvReader.Cured\n",
    "deaths = csvReader.Deaths"
   ]
  },
  {
   "cell_type": "code",
   "execution_count": 16,
   "metadata": {},
   "outputs": [
    {
     "output_type": "error",
     "ename": "KeyError",
     "evalue": "'Tamil_Nadu'",
     "traceback": [
      "\u001b[1;31m---------------------------------------------------------------------------\u001b[0m",
      "\u001b[1;31mKeyError\u001b[0m                                  Traceback (most recent call last)",
      "\u001b[1;32m<ipython-input-16-0814eb3ed313>\u001b[0m in \u001b[0;36m<module>\u001b[1;34m\u001b[0m\n\u001b[0;32m      1\u001b[0m \u001b[0mcsvReader\u001b[0m\u001b[1;33m[\u001b[0m\u001b[1;34m\"State/UnionTerritory\"\u001b[0m\u001b[1;33m]\u001b[0m\u001b[1;33m.\u001b[0m\u001b[0mstr\u001b[0m\u001b[1;33m.\u001b[0m\u001b[0mreplace\u001b[0m\u001b[1;33m(\u001b[0m\u001b[1;34m\" \"\u001b[0m\u001b[1;33m,\u001b[0m \u001b[1;34m\"_\"\u001b[0m\u001b[1;33m,\u001b[0m \u001b[0mcase\u001b[0m\u001b[1;33m=\u001b[0m\u001b[1;32mFalse\u001b[0m\u001b[1;33m)\u001b[0m\u001b[1;33m\u001b[0m\u001b[1;33m\u001b[0m\u001b[0m\n\u001b[1;32m----> 2\u001b[1;33m \u001b[0mprint\u001b[0m\u001b[1;33m(\u001b[0m\u001b[0mcsvReader\u001b[0m\u001b[1;33m[\u001b[0m\u001b[1;34m\"State/UnionTerritory\"\u001b[0m\u001b[1;33m]\u001b[0m\u001b[1;33m[\u001b[0m\u001b[1;34m\"Tamil_Nadu\"\u001b[0m\u001b[1;33m]\u001b[0m\u001b[1;33m)\u001b[0m\u001b[1;33m\u001b[0m\u001b[1;33m\u001b[0m\u001b[0m\n\u001b[0m",
      "\u001b[1;32m~\\anaconda3\\lib\\site-packages\\pandas\\core\\series.py\u001b[0m in \u001b[0;36m__getitem__\u001b[1;34m(self, key)\u001b[0m\n\u001b[0;32m    880\u001b[0m \u001b[1;33m\u001b[0m\u001b[0m\n\u001b[0;32m    881\u001b[0m         \u001b[1;32melif\u001b[0m \u001b[0mkey_is_scalar\u001b[0m\u001b[1;33m:\u001b[0m\u001b[1;33m\u001b[0m\u001b[1;33m\u001b[0m\u001b[0m\n\u001b[1;32m--> 882\u001b[1;33m             \u001b[1;32mreturn\u001b[0m \u001b[0mself\u001b[0m\u001b[1;33m.\u001b[0m\u001b[0m_get_value\u001b[0m\u001b[1;33m(\u001b[0m\u001b[0mkey\u001b[0m\u001b[1;33m)\u001b[0m\u001b[1;33m\u001b[0m\u001b[1;33m\u001b[0m\u001b[0m\n\u001b[0m\u001b[0;32m    883\u001b[0m \u001b[1;33m\u001b[0m\u001b[0m\n\u001b[0;32m    884\u001b[0m         \u001b[1;32mif\u001b[0m \u001b[0mis_hashable\u001b[0m\u001b[1;33m(\u001b[0m\u001b[0mkey\u001b[0m\u001b[1;33m)\u001b[0m\u001b[1;33m:\u001b[0m\u001b[1;33m\u001b[0m\u001b[1;33m\u001b[0m\u001b[0m\n",
      "\u001b[1;32m~\\anaconda3\\lib\\site-packages\\pandas\\core\\series.py\u001b[0m in \u001b[0;36m_get_value\u001b[1;34m(self, label, takeable)\u001b[0m\n\u001b[0;32m    987\u001b[0m \u001b[1;33m\u001b[0m\u001b[0m\n\u001b[0;32m    988\u001b[0m         \u001b[1;31m# Similar to Index.get_value, but we do not fall back to positional\u001b[0m\u001b[1;33m\u001b[0m\u001b[1;33m\u001b[0m\u001b[1;33m\u001b[0m\u001b[0m\n\u001b[1;32m--> 989\u001b[1;33m         \u001b[0mloc\u001b[0m \u001b[1;33m=\u001b[0m \u001b[0mself\u001b[0m\u001b[1;33m.\u001b[0m\u001b[0mindex\u001b[0m\u001b[1;33m.\u001b[0m\u001b[0mget_loc\u001b[0m\u001b[1;33m(\u001b[0m\u001b[0mlabel\u001b[0m\u001b[1;33m)\u001b[0m\u001b[1;33m\u001b[0m\u001b[1;33m\u001b[0m\u001b[0m\n\u001b[0m\u001b[0;32m    990\u001b[0m         \u001b[1;32mreturn\u001b[0m \u001b[0mself\u001b[0m\u001b[1;33m.\u001b[0m\u001b[0mindex\u001b[0m\u001b[1;33m.\u001b[0m\u001b[0m_get_values_for_loc\u001b[0m\u001b[1;33m(\u001b[0m\u001b[0mself\u001b[0m\u001b[1;33m,\u001b[0m \u001b[0mloc\u001b[0m\u001b[1;33m,\u001b[0m \u001b[0mlabel\u001b[0m\u001b[1;33m)\u001b[0m\u001b[1;33m\u001b[0m\u001b[1;33m\u001b[0m\u001b[0m\n\u001b[0;32m    991\u001b[0m \u001b[1;33m\u001b[0m\u001b[0m\n",
      "\u001b[1;32m~\\anaconda3\\lib\\site-packages\\pandas\\core\\indexes\\range.py\u001b[0m in \u001b[0;36mget_loc\u001b[1;34m(self, key, method, tolerance)\u001b[0m\n\u001b[0;32m    356\u001b[0m                 \u001b[1;32mexcept\u001b[0m \u001b[0mValueError\u001b[0m \u001b[1;32mas\u001b[0m \u001b[0merr\u001b[0m\u001b[1;33m:\u001b[0m\u001b[1;33m\u001b[0m\u001b[1;33m\u001b[0m\u001b[0m\n\u001b[0;32m    357\u001b[0m                     \u001b[1;32mraise\u001b[0m \u001b[0mKeyError\u001b[0m\u001b[1;33m(\u001b[0m\u001b[0mkey\u001b[0m\u001b[1;33m)\u001b[0m \u001b[1;32mfrom\u001b[0m \u001b[0merr\u001b[0m\u001b[1;33m\u001b[0m\u001b[1;33m\u001b[0m\u001b[0m\n\u001b[1;32m--> 358\u001b[1;33m             \u001b[1;32mraise\u001b[0m \u001b[0mKeyError\u001b[0m\u001b[1;33m(\u001b[0m\u001b[0mkey\u001b[0m\u001b[1;33m)\u001b[0m\u001b[1;33m\u001b[0m\u001b[1;33m\u001b[0m\u001b[0m\n\u001b[0m\u001b[0;32m    359\u001b[0m         \u001b[1;32mreturn\u001b[0m \u001b[0msuper\u001b[0m\u001b[1;33m(\u001b[0m\u001b[1;33m)\u001b[0m\u001b[1;33m.\u001b[0m\u001b[0mget_loc\u001b[0m\u001b[1;33m(\u001b[0m\u001b[0mkey\u001b[0m\u001b[1;33m,\u001b[0m \u001b[0mmethod\u001b[0m\u001b[1;33m=\u001b[0m\u001b[0mmethod\u001b[0m\u001b[1;33m,\u001b[0m \u001b[0mtolerance\u001b[0m\u001b[1;33m=\u001b[0m\u001b[0mtolerance\u001b[0m\u001b[1;33m)\u001b[0m\u001b[1;33m\u001b[0m\u001b[1;33m\u001b[0m\u001b[0m\n\u001b[0;32m    360\u001b[0m \u001b[1;33m\u001b[0m\u001b[0m\n",
      "\u001b[1;31mKeyError\u001b[0m: 'Tamil_Nadu'"
     ]
    }
   ],
   "source": [
    "\n",
    "print(csvReader[\"State/UnionTerritory\"][\"Tamil_Nadu\"])"
   ]
  },
  {
   "cell_type": "code",
   "execution_count": 25,
   "metadata": {},
   "outputs": [],
   "source": [
    "payload = []\n",
    "for i in range(1, len(csvReader)):\n",
    "    data = {\n",
    "        \"measurement\": \"Covid19 Incidents\",\n",
    "        \"tags\":{\n",
    "            \"Sno\": tags[i]\n",
    "        },\n",
    "        \"time\": date[i],\n",
    "        \"fields\":{\n",
    "            'State/UnionTerritory': state[i],\n",
    "            'ConfirmedIndianNational': confirmed[i],\n",
    "            'Cured': cured[i],\n",
    "            'Deaths': deaths[i],\n",
    "            'Confirmed': confirmed[i]\n",
    "        } \n",
    "    }\n",
    "    payload.append(data)\n"
   ]
  },
  {
   "cell_type": "code",
   "execution_count": 26,
   "metadata": {},
   "outputs": [
    {
     "output_type": "stream",
     "name": "stdout",
     "text": [
      "{'measurement': 'Covid19 Incidents', 'tags': {'Sno': 9291}, 'time': '09/12/20', 'fields': {'State/UnionTerritory': 'West Bengal', 'ConfirmedIndianNational': 507995, 'Cured': 475425, 'Deaths': 8820, 'Confirmed': 507995}}\n"
     ]
    }
   ],
   "source": [
    "print(data)"
   ]
  },
  {
   "cell_type": "code",
   "execution_count": 27,
   "metadata": {
    "tags": [
     "outputPrepend"
    ]
   },
   "outputs": [
    {
     "output_type": "stream",
     "name": "stdout",
     "text": [
      "me': '07/12/20', 'fields': {'State/UnionTerritory': 'Jammu and Kashmir', 'ConfirmedIndianNational': 113288, 'Cured': 106372, 'Deaths': 1746, 'Confirmed': 113288}}, {'measurement': 'Covid19 Incidents', 'tags': {'Sno': 9201}, 'time': '07/12/20', 'fields': {'State/UnionTerritory': 'Jharkhand', 'ConfirmedIndianNational': 110278, 'Cured': 107496, 'Deaths': 986, 'Confirmed': 110278}}, {'measurement': 'Covid19 Incidents', 'tags': {'Sno': 9202}, 'time': '07/12/20', 'fields': {'State/UnionTerritory': 'Karnataka', 'ConfirmedIndianNational': 893006, 'Cured': 855750, 'Deaths': 11856, 'Confirmed': 893006}}, {'measurement': 'Covid19 Incidents', 'tags': {'Sno': 9203}, 'time': '07/12/20', 'fields': {'State/UnionTerritory': 'Kerala', 'ConfirmedIndianNational': 636392, 'Cured': 572911, 'Deaths': 2418, 'Confirmed': 636392}}, {'measurement': 'Covid19 Incidents', 'tags': {'Sno': 9204}, 'time': '07/12/20', 'fields': {'State/UnionTerritory': 'Ladakh', 'ConfirmedIndianNational': 8893, 'Cured': 7917, 'Deaths': 120, 'Confirmed': 8893}}, {'measurement': 'Covid19 Incidents', 'tags': {'Sno': 9205}, 'time': '07/12/20', 'fields': {'State/UnionTerritory': 'Madhya Pradesh', 'ConfirmedIndianNational': 214505, 'Cured': 197777, 'Deaths': 3337, 'Confirmed': 214505}}, {'measurement': 'Covid19 Incidents', 'tags': {'Sno': 9206}, 'time': '07/12/20', 'fields': {'State/UnionTerritory': 'Maharashtra', 'ConfirmedIndianNational': 1852266, 'Cured': 1723370, 'Deaths': 47734, 'Confirmed': 1852266}}, {'measurement': 'Covid19 Incidents', 'tags': {'Sno': 9207}, 'time': '07/12/20', 'fields': {'State/UnionTerritory': 'Manipur', 'ConfirmedIndianNational': 26073, 'Cured': 22848, 'Deaths': 306, 'Confirmed': 26073}}, {'measurement': 'Covid19 Incidents', 'tags': {'Sno': 9208}, 'time': '07/12/20', 'fields': {'State/UnionTerritory': 'Meghalaya', 'ConfirmedIndianNational': 12237, 'Cured': 11453, 'Deaths': 120, 'Confirmed': 12237}}, {'measurement': 'Covid19 Incidents', 'tags': {'Sno': 9209}, 'time': '07/12/20', 'fields': {'State/UnionTerritory': 'Mizoram', 'ConfirmedIndianNational': 3936, 'Cured': 3728, 'Deaths': 6, 'Confirmed': 3936}}, {'measurement': 'Covid19 Incidents', 'tags': {'Sno': 9210}, 'time': '07/12/20', 'fields': {'State/UnionTerritory': 'Nagaland', 'ConfirmedIndianNational': 11379, 'Cured': 10766, 'Deaths': 66, 'Confirmed': 11379}}, {'measurement': 'Covid19 Incidents', 'tags': {'Sno': 9211}, 'time': '07/12/20', 'fields': {'State/UnionTerritory': 'Odisha', 'ConfirmedIndianNational': 321196, 'Cured': 315840, 'Deaths': 1771, 'Confirmed': 321196}}, {'measurement': 'Covid19 Incidents', 'tags': {'Sno': 9212}, 'time': '07/12/20', 'fields': {'State/UnionTerritory': 'Puducherry', 'ConfirmedIndianNational': 37224, 'Cured': 36238, 'Deaths': 614, 'Confirmed': 37224}}, {'measurement': 'Covid19 Incidents', 'tags': {'Sno': 9213}, 'time': '07/12/20', 'fields': {'State/UnionTerritory': 'Punjab', 'ConfirmedIndianNational': 156226, 'Cured': 143414, 'Deaths': 4916, 'Confirmed': 156226}}, {'measurement': 'Covid19 Incidents', 'tags': {'Sno': 9214}, 'time': '07/12/20', 'fields': {'State/UnionTerritory': 'Rajasthan', 'ConfirmedIndianNational': 280585, 'Cured': 255729, 'Deaths': 2429, 'Confirmed': 280585}}, {'measurement': 'Covid19 Incidents', 'tags': {'Sno': 9215}, 'time': '07/12/20', 'fields': {'State/UnionTerritory': 'Sikkim', 'ConfirmedIndianNational': 5197, 'Cured': 4695, 'Deaths': 115, 'Confirmed': 5197}}, {'measurement': 'Covid19 Incidents', 'tags': {'Sno': 9216}, 'time': '07/12/20', 'fields': {'State/UnionTerritory': 'Tamil Nadu', 'ConfirmedIndianNational': 790240, 'Cured': 767759, 'Deaths': 11793, 'Confirmed': 790240}}, {'measurement': 'Covid19 Incidents', 'tags': {'Sno': 9217}, 'time': '07/12/20', 'fields': {'State/UnionTerritory': 'Telengana', 'ConfirmedIndianNational': 273858, 'Cured': 264606, 'Deaths': 1474, 'Confirmed': 273858}}, {'measurement': 'Covid19 Incidents', 'tags': {'Sno': 9218}, 'time': '07/12/20', 'fields': {'State/UnionTerritory': 'Tripura', 'ConfirmedIndianNational': 32897, 'Cured': 32110, 'Deaths': 373, 'Confirmed': 32897}}, {'measurement': 'Covid19 Incidents', 'tags': {'Sno': 9219}, 'time': '07/12/20', 'fields': {'State/UnionTerritory': 'Uttarakhand', 'ConfirmedIndianNational': 77997, 'Cured': 71489, 'Deaths': 1285, 'Confirmed': 77997}}, {'measurement': 'Covid19 Incidents', 'tags': {'Sno': 9220}, 'time': '07/12/20', 'fields': {'State/UnionTerritory': 'Uttar Pradesh', 'ConfirmedIndianNational': 554944, 'Cured': 524860, 'Deaths': 7924, 'Confirmed': 554944}}, {'measurement': 'Covid19 Incidents', 'tags': {'Sno': 9221}, 'time': '07/12/20', 'fields': {'State/UnionTerritory': 'West Bengal', 'ConfirmedIndianNational': 502840, 'Cured': 470223, 'Deaths': 8723, 'Confirmed': 502840}}, {'measurement': 'Covid19 Incidents', 'tags': {'Sno': 9222}, 'time': '08/12/20', 'fields': {'State/UnionTerritory': 'Andaman and Nicobar Islands', 'ConfirmedIndianNational': 4773, 'Cured': 4631, 'Deaths': 61, 'Confirmed': 4773}}, {'measurement': 'Covid19 Incidents', 'tags': {'Sno': 9223}, 'time': '08/12/20', 'fields': {'State/UnionTerritory': 'Andhra Pradesh', 'ConfirmedIndianNational': 872288, 'Cured': 859624, 'Deaths': 7038, 'Confirmed': 872288}}, {'measurement': 'Covid19 Incidents', 'tags': {'Sno': 9224}, 'time': '08/12/20', 'fields': {'State/UnionTerritory': 'Arunachal Pradesh', 'ConfirmedIndianNational': 16415, 'Cured': 15653, 'Deaths': 55, 'Confirmed': 16415}}, {'measurement': 'Covid19 Incidents', 'tags': {'Sno': 9225}, 'time': '08/12/20', 'fields': {'State/UnionTerritory': 'Assam', 'ConfirmedIndianNational': 213925, 'Cured': 209345, 'Deaths': 995, 'Confirmed': 213925}}, {'measurement': 'Covid19 Incidents', 'tags': {'Sno': 9226}, 'time': '08/12/20', 'fields': {'State/UnionTerritory': 'Bihar', 'ConfirmedIndianNational': 238648, 'Cured': 231884, 'Deaths': 1297, 'Confirmed': 238648}}, {'measurement': 'Covid19 Incidents', 'tags': {'Sno': 9227}, 'time': '08/12/20', 'fields': {'State/UnionTerritory': 'Chandigarh', 'ConfirmedIndianNational': 18113, 'Cured': 16899, 'Deaths': 293, 'Confirmed': 18113}}, {'measurement': 'Covid19 Incidents', 'tags': {'Sno': 9228}, 'time': '08/12/20', 'fields': {'State/UnionTerritory': 'Chhattisgarh', 'ConfirmedIndianNational': 248232, 'Cured': 225633, 'Deaths': 3010, 'Confirmed': 248232}}, {'measurement': 'Covid19 Incidents', 'tags': {'Sno': 9229}, 'time': '08/12/20', 'fields': {'State/UnionTerritory': 'Dadra and Nagar Haveli and Daman and Diu', 'ConfirmedIndianNational': 3346, 'Cured': 3328, 'Deaths': 2, 'Confirmed': 3346}}, {'measurement': 'Covid19 Incidents', 'tags': {'Sno': 9230}, 'time': '08/12/20', 'fields': {'State/UnionTerritory': 'Delhi', 'ConfirmedIndianNational': 593924, 'Cured': 561732, 'Deaths': 9706, 'Confirmed': 593924}}, {'measurement': 'Covid19 Incidents', 'tags': {'Sno': 9231}, 'time': '08/12/20', 'fields': {'State/UnionTerritory': 'Goa', 'ConfirmedIndianNational': 48776, 'Cured': 46778, 'Deaths': 701, 'Confirmed': 48776}}, {'measurement': 'Covid19 Incidents', 'tags': {'Sno': 9232}, 'time': '08/12/20', 'fields': {'State/UnionTerritory': 'Gujarat', 'ConfirmedIndianNational': 220168, 'Cured': 201580, 'Deaths': 4095, 'Confirmed': 220168}}, {'measurement': 'Covid19 Incidents', 'tags': {'Sno': 9233}, 'time': '08/12/20', 'fields': {'State/UnionTerritory': 'Haryana', 'ConfirmedIndianNational': 245288, 'Cured': 230551, 'Deaths': 2611, 'Confirmed': 245288}}, {'measurement': 'Covid19 Incidents', 'tags': {'Sno': 9234}, 'time': '08/12/20', 'fields': {'State/UnionTerritory': 'Himachal Pradesh', 'ConfirmedIndianNational': 45697, 'Cured': 37063, 'Deaths': 739, 'Confirmed': 45697}}, {'measurement': 'Covid19 Incidents', 'tags': {'Sno': 9235}, 'time': '08/12/20', 'fields': {'State/UnionTerritory': 'Jammu and Kashmir', 'ConfirmedIndianNational': 113568, 'Cured': 106758, 'Deaths': 1755, 'Confirmed': 113568}}, {'measurement': 'Covid19 Incidents', 'tags': {'Sno': 9236}, 'time': '08/12/20', 'fields': {'State/UnionTerritory': 'Jharkhand', 'ConfirmedIndianNational': 110457, 'Cured': 107710, 'Deaths': 988, 'Confirmed': 110457}}, {'measurement': 'Covid19 Incidents', 'tags': {'Sno': 9237}, 'time': '08/12/20', 'fields': {'State/UnionTerritory': 'Karnataka', 'ConfirmedIndianNational': 894004, 'Cured': 857351, 'Deaths': 11867, 'Confirmed': 894004}}, {'measurement': 'Covid19 Incidents', 'tags': {'Sno': 9238}, 'time': '08/12/20', 'fields': {'State/UnionTerritory': 'Kerala', 'ConfirmedIndianNational': 639664, 'Cured': 577616, 'Deaths': 2441, 'Confirmed': 639664}}, {'measurement': 'Covid19 Incidents', 'tags': {'Sno': 9239}, 'time': '08/12/20', 'fields': {'State/UnionTerritory': 'Ladakh', 'ConfirmedIndianNational': 8896, 'Cured': 8014, 'Deaths': 121, 'Confirmed': 8896}}, {'measurement': 'Covid19 Incidents', 'tags': {'Sno': 9240}, 'time': '08/12/20', 'fields': {'State/UnionTerritory': 'Madhya Pradesh', 'ConfirmedIndianNational': 215957, 'Cured': 199167, 'Deaths': 3347, 'Confirmed': 215957}}, {'measurement': 'Covid19 Incidents', 'tags': {'Sno': 9241}, 'time': '08/12/20', 'fields': {'State/UnionTerritory': 'Maharashtra', 'ConfirmedIndianNational': 1855341, 'Cured': 1730715, 'Deaths': 47774, 'Confirmed': 1855341}}, {'measurement': 'Covid19 Incidents', 'tags': {'Sno': 9242}, 'time': '08/12/20', 'fields': {'State/UnionTerritory': 'Manipur', 'ConfirmedIndianNational': 26225, 'Cured': 22997, 'Deaths': 309, 'Confirmed': 26225}}, {'measurement': 'Covid19 Incidents', 'tags': {'Sno': 9243}, 'time': '08/12/20', 'fields': {'State/UnionTerritory': 'Meghalaya', 'ConfirmedIndianNational': 12314, 'Cured': 11573, 'Deaths': 120, 'Confirmed': 12314}}, {'measurement': 'Covid19 Incidents', 'tags': {'Sno': 9244}, 'time': '08/12/20', 'fields': {'State/UnionTerritory': 'Mizoram', 'ConfirmedIndianNational': 3968, 'Cured': 3757, 'Deaths': 6, 'Confirmed': 3968}}, {'measurement': 'Covid19 Incidents', 'tags': {'Sno': 9245}, 'time': '08/12/20', 'fields': {'State/UnionTerritory': 'Nagaland', 'ConfirmedIndianNational': 11418, 'Cured': 10773, 'Deaths': 66, 'Confirmed': 11418}}, {'measurement': 'Covid19 Incidents', 'tags': {'Sno': 9246}, 'time': '08/12/20', 'fields': {'State/UnionTerritory': 'Odisha', 'ConfirmedIndianNational': 321564, 'Cured': 316447, 'Deaths': 1778, 'Confirmed': 321564}}, {'measurement': 'Covid19 Incidents', 'tags': {'Sno': 9247}, 'time': '08/12/20', 'fields': {'State/UnionTerritory': 'Puducherry', 'ConfirmedIndianNational': 37270, 'Cured': 36263, 'Deaths': 615, 'Confirmed': 37270}}, {'measurement': 'Covid19 Incidents', 'tags': {'Sno': 9248}, 'time': '08/12/20', 'fields': {'State/UnionTerritory': 'Punjab', 'ConfirmedIndianNational': 156839, 'Cured': 144301, 'Deaths': 4934, 'Confirmed': 156839}}, {'measurement': 'Covid19 Incidents', 'tags': {'Sno': 9249}, 'time': '08/12/20', 'fields': {'State/UnionTerritory': 'Rajasthan', 'ConfirmedIndianNational': 282512, 'Cured': 258393, 'Deaths': 2448, 'Confirmed': 282512}}, {'measurement': 'Covid19 Incidents', 'tags': {'Sno': 9250}, 'time': '08/12/20', 'fields': {'State/UnionTerritory': 'Sikkim', 'ConfirmedIndianNational': 5203, 'Cured': 4715, 'Deaths': 117, 'Confirmed': 5203}}, {'measurement': 'Covid19 Incidents', 'tags': {'Sno': 9251}, 'time': '08/12/20', 'fields': {'State/UnionTerritory': 'Tamil Nadu', 'ConfirmedIndianNational': 791552, 'Cured': 769048, 'Deaths': 11809, 'Confirmed': 791552}}, {'measurement': 'Covid19 Incidents', 'tags': {'Sno': 9252}, 'time': '08/12/20', 'fields': {'State/UnionTerritory': 'Telengana', 'ConfirmedIndianNational': 274540, 'Cured': 265367, 'Deaths': 1477, 'Confirmed': 274540}}, {'measurement': 'Covid19 Incidents', 'tags': {'Sno': 9253}, 'time': '08/12/20', 'fields': {'State/UnionTerritory': 'Tripura', 'ConfirmedIndianNational': 32925, 'Cured': 32125, 'Deaths': 373, 'Confirmed': 32925}}, {'measurement': 'Covid19 Incidents', 'tags': {'Sno': 9254}, 'time': '08/12/20', 'fields': {'State/UnionTerritory': 'Uttarakhand', 'ConfirmedIndianNational': 78509, 'Cured': 71980, 'Deaths': 1295, 'Confirmed': 78509}}, {'measurement': 'Covid19 Incidents', 'tags': {'Sno': 9255}, 'time': '08/12/20', 'fields': {'State/UnionTerritory': 'Uttar Pradesh', 'ConfirmedIndianNational': 556397, 'Cured': 526721, 'Deaths': 7944, 'Confirmed': 556397}}, {'measurement': 'Covid19 Incidents', 'tags': {'Sno': 9256}, 'time': '08/12/20', 'fields': {'State/UnionTerritory': 'West Bengal', 'ConfirmedIndianNational': 505054, 'Cured': 472454, 'Deaths': 8771, 'Confirmed': 505054}}, {'measurement': 'Covid19 Incidents', 'tags': {'Sno': 9257}, 'time': '09/12/20', 'fields': {'State/UnionTerritory': 'Andaman and Nicobar Islands', 'ConfirmedIndianNational': 4778, 'Cured': 4647, 'Deaths': 61, 'Confirmed': 4778}}, {'measurement': 'Covid19 Incidents', 'tags': {'Sno': 9258}, 'time': '09/12/20', 'fields': {'State/UnionTerritory': 'Andhra Pradesh', 'ConfirmedIndianNational': 872839, 'Cured': 860368, 'Deaths': 7042, 'Confirmed': 872839}}, {'measurement': 'Covid19 Incidents', 'tags': {'Sno': 9259}, 'time': '09/12/20', 'fields': {'State/UnionTerritory': 'Arunachal Pradesh', 'ConfirmedIndianNational': 16437, 'Cured': 15690, 'Deaths': 55, 'Confirmed': 16437}}, {'measurement': 'Covid19 Incidents', 'tags': {'Sno': 9260}, 'time': '09/12/20', 'fields': {'State/UnionTerritory': 'Assam', 'ConfirmedIndianNational': 214019, 'Cured': 209447, 'Deaths': 997, 'Confirmed': 214019}}, {'measurement': 'Covid19 Incidents', 'tags': {'Sno': 9261}, 'time': '09/12/20', 'fields': {'State/UnionTerritory': 'Bihar', 'ConfirmedIndianNational': 239322, 'Cured': 232563, 'Deaths': 1300, 'Confirmed': 239322}}, {'measurement': 'Covid19 Incidents', 'tags': {'Sno': 9262}, 'time': '09/12/20', 'fields': {'State/UnionTerritory': 'Chandigarh', 'ConfirmedIndianNational': 18239, 'Cured': 16981, 'Deaths': 296, 'Confirmed': 18239}}, {'measurement': 'Covid19 Incidents', 'tags': {'Sno': 9263}, 'time': '09/12/20', 'fields': {'State/UnionTerritory': 'Chhattisgarh', 'ConfirmedIndianNational': 249699, 'Cured': 227158, 'Deaths': 3025, 'Confirmed': 249699}}, {'measurement': 'Covid19 Incidents', 'tags': {'Sno': 9264}, 'time': '09/12/20', 'fields': {'State/UnionTerritory': 'Dadra and Nagar Haveli and Daman and Diu', 'ConfirmedIndianNational': 3351, 'Cured': 3330, 'Deaths': 2, 'Confirmed': 3351}}, {'measurement': 'Covid19 Incidents', 'tags': {'Sno': 9265}, 'time': '09/12/20', 'fields': {'State/UnionTerritory': 'Delhi', 'ConfirmedIndianNational': 597112, 'Cured': 565039, 'Deaths': 9763, 'Confirmed': 597112}}, {'measurement': 'Covid19 Incidents', 'tags': {'Sno': 9266}, 'time': '09/12/20', 'fields': {'State/UnionTerritory': 'Goa', 'ConfirmedIndianNational': 48935, 'Cured': 46924, 'Deaths': 701, 'Confirmed': 48935}}, {'measurement': 'Covid19 Incidents', 'tags': {'Sno': 9267}, 'time': '09/12/20', 'fields': {'State/UnionTerritory': 'Gujarat', 'ConfirmedIndianNational': 221493, 'Cured': 203111, 'Deaths': 4110, 'Confirmed': 221493}}, {'measurement': 'Covid19 Incidents', 'tags': {'Sno': 9268}, 'time': '09/12/20', 'fields': {'State/UnionTerritory': 'Haryana', 'ConfirmedIndianNational': 246679, 'Cured': 232108, 'Deaths': 2624, 'Confirmed': 246679}}, {'measurement': 'Covid19 Incidents', 'tags': {'Sno': 9269}, 'time': '09/12/20', 'fields': {'State/UnionTerritory': 'Himachal Pradesh', 'ConfirmedIndianNational': 46201, 'Cured': 37871, 'Deaths': 753, 'Confirmed': 46201}}, {'measurement': 'Covid19 Incidents', 'tags': {'Sno': 9270}, 'time': '09/12/20', 'fields': {'State/UnionTerritory': 'Jammu and Kashmir', 'ConfirmedIndianNational': 114038, 'Cured': 107282, 'Deaths': 1761, 'Confirmed': 114038}}, {'measurement': 'Covid19 Incidents', 'tags': {'Sno': 9271}, 'time': '09/12/20', 'fields': {'State/UnionTerritory': 'Jharkhand', 'ConfirmedIndianNational': 110639, 'Cured': 107898, 'Deaths': 988, 'Confirmed': 110639}}, {'measurement': 'Covid19 Incidents', 'tags': {'Sno': 9272}, 'time': '09/12/20', 'fields': {'State/UnionTerritory': 'Karnataka', 'ConfirmedIndianNational': 895284, 'Cured': 858370, 'Deaths': 11880, 'Confirmed': 895284}}, {'measurement': 'Covid19 Incidents', 'tags': {'Sno': 9273}, 'time': '09/12/20', 'fields': {'State/UnionTerritory': 'Kerala', 'ConfirmedIndianNational': 644696, 'Cured': 582351, 'Deaths': 2472, 'Confirmed': 644696}}, {'measurement': 'Covid19 Incidents', 'tags': {'Sno': 9274}, 'time': '09/12/20', 'fields': {'State/UnionTerritory': 'Ladakh', 'ConfirmedIndianNational': 8969, 'Cured': 8056, 'Deaths': 122, 'Confirmed': 8969}}, {'measurement': 'Covid19 Incidents', 'tags': {'Sno': 9275}, 'time': '09/12/20', 'fields': {'State/UnionTerritory': 'Madhya Pradesh', 'ConfirmedIndianNational': 217302, 'Cured': 200664, 'Deaths': 3358, 'Confirmed': 217302}}, {'measurement': 'Covid19 Incidents', 'tags': {'Sno': 9276}, 'time': '09/12/20', 'fields': {'State/UnionTerritory': 'Maharashtra', 'ConfirmedIndianNational': 1859367, 'Cured': 1737080, 'Deaths': 47827, 'Confirmed': 1859367}}, {'measurement': 'Covid19 Incidents', 'tags': {'Sno': 9277}, 'time': '09/12/20', 'fields': {'State/UnionTerritory': 'Manipur', 'ConfirmedIndianNational': 26396, 'Cured': 23166, 'Deaths': 311, 'Confirmed': 26396}}, {'measurement': 'Covid19 Incidents', 'tags': {'Sno': 9278}, 'time': '09/12/20', 'fields': {'State/UnionTerritory': 'Meghalaya', 'ConfirmedIndianNational': 12410, 'Cured': 11686, 'Deaths': 122, 'Confirmed': 12410}}, {'measurement': 'Covid19 Incidents', 'tags': {'Sno': 9279}, 'time': '09/12/20', 'fields': {'State/UnionTerritory': 'Mizoram', 'ConfirmedIndianNational': 3977, 'Cured': 3772, 'Deaths': 6, 'Confirmed': 3977}}, {'measurement': 'Covid19 Incidents', 'tags': {'Sno': 9280}, 'time': '09/12/20', 'fields': {'State/UnionTerritory': 'Nagaland', 'ConfirmedIndianNational': 11479, 'Cured': 10781, 'Deaths': 67, 'Confirmed': 11479}}, {'measurement': 'Covid19 Incidents', 'tags': {'Sno': 9281}, 'time': '09/12/20', 'fields': {'State/UnionTerritory': 'Odisha', 'ConfirmedIndianNational': 321913, 'Cured': 316970, 'Deaths': 1784, 'Confirmed': 321913}}, {'measurement': 'Covid19 Incidents', 'tags': {'Sno': 9282}, 'time': '09/12/20', 'fields': {'State/UnionTerritory': 'Puducherry', 'ConfirmedIndianNational': 37311, 'Cured': 36308, 'Deaths': 615, 'Confirmed': 37311}}, {'measurement': 'Covid19 Incidents', 'tags': {'Sno': 9283}, 'time': '09/12/20', 'fields': {'State/UnionTerritory': 'Punjab', 'ConfirmedIndianNational': 157331, 'Cured': 145093, 'Deaths': 4964, 'Confirmed': 157331}}, {'measurement': 'Covid19 Incidents', 'tags': {'Sno': 9284}, 'time': '09/12/20', 'fields': {'State/UnionTerritory': 'Rajasthan', 'ConfirmedIndianNational': 284116, 'Cured': 260773, 'Deaths': 2468, 'Confirmed': 284116}}, {'measurement': 'Covid19 Incidents', 'tags': {'Sno': 9285}, 'time': '09/12/20', 'fields': {'State/UnionTerritory': 'Sikkim', 'ConfirmedIndianNational': 5215, 'Cured': 4735, 'Deaths': 117, 'Confirmed': 5215}}, {'measurement': 'Covid19 Incidents', 'tags': {'Sno': 9286}, 'time': '09/12/20', 'fields': {'State/UnionTerritory': 'Tamil Nadu', 'ConfirmedIndianNational': 792788, 'Cured': 770378, 'Deaths': 11822, 'Confirmed': 792788}}, {'measurement': 'Covid19 Incidents', 'tags': {'Sno': 9287}, 'time': '09/12/20', 'fields': {'State/UnionTerritory': 'Telengana', 'ConfirmedIndianNational': 275261, 'Cured': 266120, 'Deaths': 1480, 'Confirmed': 275261}}, {'measurement': 'Covid19 Incidents', 'tags': {'Sno': 9288}, 'time': '09/12/20', 'fields': {'State/UnionTerritory': 'Tripura', 'ConfirmedIndianNational': 32945, 'Cured': 32169, 'Deaths': 373, 'Confirmed': 32945}}, {'measurement': 'Covid19 Incidents', 'tags': {'Sno': 9289}, 'time': '09/12/20', 'fields': {'State/UnionTerritory': 'Uttarakhand', 'ConfirmedIndianNational': 79141, 'Cured': 72435, 'Deaths': 1307, 'Confirmed': 79141}}, {'measurement': 'Covid19 Incidents', 'tags': {'Sno': 9290}, 'time': '09/12/20', 'fields': {'State/UnionTerritory': 'Uttar Pradesh', 'ConfirmedIndianNational': 558173, 'Cured': 528832, 'Deaths': 7967, 'Confirmed': 558173}}, {'measurement': 'Covid19 Incidents', 'tags': {'Sno': 9291}, 'time': '09/12/20', 'fields': {'State/UnionTerritory': 'West Bengal', 'ConfirmedIndianNational': 507995, 'Cured': 475425, 'Deaths': 8820, 'Confirmed': 507995}}]\n"
     ]
    }
   ],
   "source": [
    "print(payload)"
   ]
  },
  {
   "source": [
    "Datenbank: Measurement Covid19\n",
    "\n",
    "Date---Confirmed---Cured---Deaths---SerialNo---State/Union Territory"
   ],
   "cell_type": "markdown",
   "metadata": {}
  },
  {
   "cell_type": "code",
   "execution_count": null,
   "metadata": {},
   "outputs": [],
   "source": []
  }
 ]
}